{
  "nbformat": 4,
  "nbformat_minor": 0,
  "metadata": {
    "colab": {
      "provenance": []
    },
    "kernelspec": {
      "name": "python3",
      "display_name": "Python 3"
    },
    "language_info": {
      "name": "python"
    }
  },
  "cells": [
    {
      "cell_type": "code",
      "execution_count": 1,
      "metadata": {
        "id": "knmqdy0pD-5g"
      },
      "outputs": [],
      "source": [
        "import numpy as np\n",
        "import matplotlib.pyplot as plt\n",
        "from sklearn.linear_model import LinearRegression"
      ]
    },
    {
      "cell_type": "code",
      "source": [
        "hours = np.array([0,1,2,3,3,5,5,6,7,7,10,5]) # Independent variable\n",
        "marks = np.array([96,85,82,74,95,68,76,58,65,75,50,84])\n",
        "\n",
        "sum_of_hours=0\n",
        "sum_of_marks=0\n",
        "for i in hours:\n",
        "    sum_of_hours +=i\n",
        "\n",
        "for i in marks:\n",
        "    sum_of_marks +=i\n",
        "\n",
        "\n",
        "x_multiply_y = sum_of_hours * sum_of_marks\n",
        "# print(sum_of_hours)\n",
        "# print(sum_of_marks)\n",
        "print(x_multiply_y)"
      ],
      "metadata": {
        "colab": {
          "base_uri": "https://localhost:8080/"
        },
        "id": "UIBxDMXvELcq",
        "outputId": "76a7310e-d454-468d-deb7-6fd4cd072261"
      },
      "execution_count": 19,
      "outputs": [
        {
          "output_type": "stream",
          "name": "stdout",
          "text": [
            "49032\n"
          ]
        }
      ]
    },
    {
      "cell_type": "code",
      "source": [
        "# submission\n",
        "xy = np.sum(hours * marks)\n",
        "print(xy)"
      ],
      "metadata": {
        "colab": {
          "base_uri": "https://localhost:8080/"
        },
        "id": "C5An6PvhFFKI",
        "outputId": "911f7f23-e583-41a3-8445-aac8b3f5d708"
      },
      "execution_count": 11,
      "outputs": [
        {
          "output_type": "stream",
          "name": "stdout",
          "text": [
            "3724\n"
          ]
        }
      ]
    },
    {
      "cell_type": "code",
      "source": [
        "indiv_x_square = 0\n",
        "for i in hours:\n",
        "  indiv_x_square += i**2\n",
        "\n",
        "print(indiv_x_square)"
      ],
      "metadata": {
        "colab": {
          "base_uri": "https://localhost:8080/"
        },
        "id": "_WqOcf8sHCMF",
        "outputId": "5cfebacc-1231-4059-8365-f733dcb77e0a"
      },
      "execution_count": 8,
      "outputs": [
        {
          "output_type": "stream",
          "name": "stdout",
          "text": [
            "332\n"
          ]
        }
      ]
    },
    {
      "cell_type": "code",
      "source": [
        "sum_of_square = (sum_of_hours)**2\n",
        "print(sum_of_square)"
      ],
      "metadata": {
        "colab": {
          "base_uri": "https://localhost:8080/"
        },
        "id": "xv9gspayHium",
        "outputId": "57b08c8b-a2c2-4111-cb63-db2c18fa9672"
      },
      "execution_count": 7,
      "outputs": [
        {
          "output_type": "stream",
          "name": "stdout",
          "text": [
            "2916\n"
          ]
        }
      ]
    },
    {
      "cell_type": "code",
      "source": [
        "n = len(hours)\n",
        "print(n)"
      ],
      "metadata": {
        "colab": {
          "base_uri": "https://localhost:8080/"
        },
        "id": "VDatEfdtIMVH",
        "outputId": "1a189861-06d6-4de9-b7fe-d01426a9de4b"
      },
      "execution_count": 10,
      "outputs": [
        {
          "output_type": "stream",
          "name": "stdout",
          "text": [
            "12\n"
          ]
        }
      ]
    },
    {
      "cell_type": "code",
      "source": [
        "# Formula\n",
        " # n*xy - y/ n(x^2)-(x)^2"
      ],
      "metadata": {
        "id": "bieYK__SFtQA"
      },
      "execution_count": null,
      "outputs": []
    },
    {
      "cell_type": "code",
      "source": [
        "numerator = (n*(xy)) - x_multiply_y\n",
        "denominator = (n*(indiv_x_square)) - sum_of_square\n",
        "print(numerator)\n",
        "print(denominator)"
      ],
      "metadata": {
        "colab": {
          "base_uri": "https://localhost:8080/"
        },
        "id": "0KohQjh8IhRY",
        "outputId": "264d0a08-62d7-42a2-9758-076d49e9a25d"
      },
      "execution_count": 20,
      "outputs": [
        {
          "output_type": "stream",
          "name": "stdout",
          "text": [
            "-4344\n",
            "1068\n"
          ]
        }
      ]
    },
    {
      "cell_type": "code",
      "source": [
        "m = numerator/denominator\n",
        "print(m)"
      ],
      "metadata": {
        "colab": {
          "base_uri": "https://localhost:8080/"
        },
        "id": "bI1d19YIJExT",
        "outputId": "b2ec2666-c9ac-4410-aba4-f6e8b785e7cd"
      },
      "execution_count": 21,
      "outputs": [
        {
          "output_type": "stream",
          "name": "stdout",
          "text": [
            "-4.067415730337078\n"
          ]
        }
      ]
    },
    {
      "cell_type": "code",
      "source": [
        "user = int(input(\"Enter the hours spend: \"))\n",
        "# c=y-mx\n",
        "c = (sum_of_marks-m*(sum_of_hours))/n\n",
        "print(c)"
      ],
      "metadata": {
        "colab": {
          "base_uri": "https://localhost:8080/"
        },
        "id": "gpKjfyzWLR4M",
        "outputId": "b2036695-5b27-4d1f-dce4-044b277f5fdc"
      },
      "execution_count": 24,
      "outputs": [
        {
          "output_type": "stream",
          "name": "stdout",
          "text": [
            "Enter the hours spend: 9\n",
            "93.97003745318352\n"
          ]
        }
      ]
    }
  ]
}