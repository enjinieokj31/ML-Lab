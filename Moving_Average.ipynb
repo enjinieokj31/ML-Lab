{
  "nbformat": 4,
  "nbformat_minor": 0,
  "metadata": {
    "colab": {
      "provenance": []
    },
    "kernelspec": {
      "name": "python3",
      "display_name": "Python 3"
    },
    "language_info": {
      "name": "python"
    }
  },
  "cells": [
    {
      "cell_type": "code",
      "execution_count": 8,
      "metadata": {
        "colab": {
          "base_uri": "https://localhost:8080/"
        },
        "id": "9TF68g6xBcCV",
        "outputId": "5f503782-55f4-4502-bc21-1ecdffb6e2f5"
      },
      "outputs": [
        {
          "output_type": "stream",
          "name": "stdout",
          "text": [
            "Time\tPredicted_value\t\tError\tActual_value\n",
            "1\t\t15\t\t-4\t19\n",
            "2\t\t14.0\t\t2\t12.0\n",
            "Enter time upto 5 till which you needmoving average2\n",
            "Moving Average(2) is: 14.5\n",
            "3\t\t15.5\t\t1\t14.5\n",
            "Enter time upto 5 till which you needmoving average3\n",
            "Moving Average(3) is: 14.833333333333334\n",
            "4\t\t15.25\t\t-2\t17.25\n",
            "Enter time upto 5 till which you needmoving average4\n",
            "Moving Average(4) is: 14.9375\n",
            "5\t\t14.5\t\t3\t11.5\n",
            "Enter time upto 5 till which you needmoving average5\n",
            "Moving Average(5) is: 14.85\n"
          ]
        }
      ],
      "source": [
        "x=15\n",
        "j_pred = []\n",
        "error = [-4,2,1,-2,3]\n",
        "j_act = []\n",
        "p=0.25\n",
        "j_pred.append(x)\n",
        "j_act.append(x-error[0])\n",
        "print(\"Time\\tPredicted_value\\t\\tError\\tActual_value\")\n",
        "print(f\"1\\t\\t{j_pred[0]}\\t\\t{error[0]}\\t{j_act[0]}\")\n",
        "for i in range(1,len(error)):\n",
        "  j_pred.append(x+(p*error[i-1]))\n",
        "  j_act.append(j_pred[i]-error[i])\n",
        "  print(f\"{i+1}\\t\\t{j_pred[i]}\\t\\t{error[i]}\\t{j_act[i]}\")\n",
        "  n1 = int(input(\"Enter time upto 5 till which you needmoving average\"))\n",
        "  mov_avg = 0\n",
        "  for k in range(n1):\n",
        "    mov_avg = mov_avg+j_pred[k]\n",
        "  mov_avg_final = mov_avg/n1\n",
        "  print(f\"Moving Average({n1}) is: {mov_avg_final}\")"
      ]
    }
  ]
}